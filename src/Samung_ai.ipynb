{
  "nbformat": 4,
  "nbformat_minor": 0,
  "metadata": {
    "colab": {
      "provenance": []
    },
    "kernelspec": {
      "name": "python3",
      "display_name": "Python 3"
    },
    "language_info": {
      "name": "python"
    }
  },
  "cells": [
    {
      "cell_type": "code",
      "execution_count": null,
      "metadata": {
        "colab": {
          "base_uri": "https://localhost:8080/"
        },
        "id": "2x9gS6OQcebu",
        "outputId": "810e2fc4-46c7-4056-80c7-a4d5e3852e88"
      },
      "outputs": [
        {
          "output_type": "stream",
          "name": "stdout",
          "text": [
            "✅ Setup Complete. I have inmported all the necessary libraries important for our model building\n"
          ]
        }
      ],
      "source": [
        "import tensorflow as tf\n",
        "import numpy as np\n",
        "import pandas as pd\n",
        "from sklearn.preprocessing import MinMaxScaler\n",
        "from google.colab import files\n",
        "\n",
        "print(\"✅ Setup Complete. I have inmported all the necessary libraries important for our model building\")"
      ]
    },
    {
      "cell_type": "markdown",
      "source": [
        "### Now for Cell 2 , we are genearting synthetic data : Purpose: To create a realistic, multi-featured dataset from scratch and save it as a CSV file."
      ],
      "metadata": {
        "id": "A7LUvl6GdJ7_"
      }
    },
    {
      "cell_type": "code",
      "source": [
        "import pandas as pd\n",
        "import numpy as np\n",
        "import time\n",
        "\n",
        "# --- 1. Configuration ---\n",
        "num_points = 20000  # Generate 20,000 data points\n",
        "num_cycles = 5      # Simulate 5 full charge/discharge cycles\n",
        "points_per_cycle = num_points // num_cycles\n",
        "\n",
        "print(f\"--- Generating {num_points} data points across {num_cycles} cycles ---\")\n",
        "\n",
        "# --- 2. Initialize Empty Lists for Data ---\n",
        "all_battery = []\n",
        "all_charging_status = []\n",
        "\n",
        "# --- 3. Simulate Multiple Charge/Discharge Cycles ---\n",
        "for i in range(num_cycles):\n",
        "    # a) Simulate a discharge phase (100% -> 15%)\n",
        "    discharge_points = int(points_per_cycle * 0.75) # 75% of the time is spent discharging\n",
        "    discharge_battery = np.linspace(100, 15, discharge_points)\n",
        "    all_battery.extend(discharge_battery)\n",
        "    all_charging_status.extend(np.zeros(discharge_points)) # 0 = discharging\n",
        "\n",
        "    # b) Simulate a charge phase (15% -> 100%)\n",
        "    charge_points = points_per_cycle - discharge_points # 25% of the time is spent charging\n",
        "    charge_battery = np.linspace(15, 100, charge_points)\n",
        "    all_battery.extend(charge_battery)\n",
        "    all_charging_status.extend(np.ones(charge_points)) # 1 = charging\n",
        "\n",
        "# Convert lists to numpy arrays\n",
        "battery = np.array(all_battery)\n",
        "charging_status = np.array(all_charging_status)\n",
        "\n",
        "# Add realistic noise to the battery data\n",
        "battery += np.random.normal(0, 0.5, len(battery))\n",
        "battery = np.clip(battery, 0, 100)\n",
        "\n",
        "print(\"--- Step 1/4: Battery cycles simulated ---\")\n",
        "\n",
        "\n",
        "# --- 4. Simulate Realistic Brightness ---\n",
        "# Create a day/night cycle using a sine wave\n",
        "day_night_cycle = (np.sin(np.linspace(0, num_cycles * 2 * np.pi, len(battery))) + 1) / 2  # Scaled to 0-1\n",
        "brightness = 30 + (day_night_cycle * 200) # Varies between 30 (night) and 230 (day)\n",
        "\n",
        "# Add random user activity spikes\n",
        "activity_spikes = np.random.randint(0, 30, len(battery))\n",
        "brightness += activity_spikes\n",
        "\n",
        "# When charging for a long time (e.g., overnight), assume screen is mostly off (low brightness)\n",
        "for i in range(1, len(brightness)):\n",
        "    if charging_status[i] == 1 and charging_status[i-1] == 1: # If it's still charging\n",
        "        brightness[i] = min(brightness[i], 20) # Screen is likely off\n",
        "\n",
        "brightness = np.clip(brightness, 10, 255)\n",
        "\n",
        "print(\"--- Step 2/4: Brightness patterns simulated ---\")\n",
        "\n",
        "# --- 5. Simulate Realistic Network Status ---\n",
        "network = np.ones(len(battery)) # Default to WiFi (1)\n",
        "# When discharging and battery is lower, higher chance of being on Mobile Data (2)\n",
        "mobile_mask = (charging_status == 0) & (battery < 70) & (np.random.rand(len(battery)) > 0.5)\n",
        "network[mobile_mask] = 2\n",
        "\n",
        "print(\"--- Step 3/4: Network switching simulated ---\")\n",
        "\n",
        "\n",
        "# --- 6. Create Timestamp and Assemble Final DataFrame ---\n",
        "current_timestamp_ms = int(time.time() * 1000)\n",
        "timestamps = [current_timestamp_ms - (i * 60 * 1000) for i in range(len(battery))] # One data point per minute\n",
        "timestamps.reverse()\n",
        "\n",
        "df = pd.DataFrame({\n",
        "    'timestamp': timestamps,\n",
        "    'battery': battery,\n",
        "    'brightness': brightness,\n",
        "    'network': network,\n",
        "    'charging_status': charging_status\n",
        "})\n",
        "\n",
        "# Save the final dataset\n",
        "df.to_csv('large_battery_data.csv', index=False, header=False)\n",
        "\n",
        "print(\"--- Step 4/4: Final dataset 'large_battery_data.csv' created successfully! ---\")\n",
        "df.head()"
      ],
      "metadata": {
        "colab": {
          "base_uri": "https://localhost:8080/",
          "height": 293
        },
        "id": "BOrOw_w6ddWM",
        "outputId": "92484f4c-de57-437c-e658-4ac277201dfc"
      },
      "execution_count": null,
      "outputs": [
        {
          "output_type": "stream",
          "name": "stdout",
          "text": [
            "--- Generating 20000 data points across 5 cycles ---\n",
            "--- Step 1/4: Battery cycles simulated ---\n",
            "--- Step 2/4: Brightness patterns simulated ---\n",
            "--- Step 3/4: Network switching simulated ---\n",
            "--- Step 4/4: Final dataset 'large_battery_data.csv' created successfully! ---\n"
          ]
        },
        {
          "output_type": "execute_result",
          "data": {
            "text/plain": [
              "       timestamp     battery  brightness  network  charging_status\n",
              "0  1755130379591  100.000000  158.000000      1.0              0.0\n",
              "1  1755130439591   99.859296  158.157087      1.0              0.0\n",
              "2  1755130499591  100.000000  149.314174      1.0              0.0\n",
              "3  1755130559591   99.903564  137.471261      1.0              0.0\n",
              "4  1755130619591   99.431104  149.628346      1.0              0.0"
            ],
            "text/html": [
              "\n",
              "  <div id=\"df-5450c47b-614d-4a4d-ac96-59d500956ac4\" class=\"colab-df-container\">\n",
              "    <div>\n",
              "<style scoped>\n",
              "    .dataframe tbody tr th:only-of-type {\n",
              "        vertical-align: middle;\n",
              "    }\n",
              "\n",
              "    .dataframe tbody tr th {\n",
              "        vertical-align: top;\n",
              "    }\n",
              "\n",
              "    .dataframe thead th {\n",
              "        text-align: right;\n",
              "    }\n",
              "</style>\n",
              "<table border=\"1\" class=\"dataframe\">\n",
              "  <thead>\n",
              "    <tr style=\"text-align: right;\">\n",
              "      <th></th>\n",
              "      <th>timestamp</th>\n",
              "      <th>battery</th>\n",
              "      <th>brightness</th>\n",
              "      <th>network</th>\n",
              "      <th>charging_status</th>\n",
              "    </tr>\n",
              "  </thead>\n",
              "  <tbody>\n",
              "    <tr>\n",
              "      <th>0</th>\n",
              "      <td>1755130379591</td>\n",
              "      <td>100.000000</td>\n",
              "      <td>158.000000</td>\n",
              "      <td>1.0</td>\n",
              "      <td>0.0</td>\n",
              "    </tr>\n",
              "    <tr>\n",
              "      <th>1</th>\n",
              "      <td>1755130439591</td>\n",
              "      <td>99.859296</td>\n",
              "      <td>158.157087</td>\n",
              "      <td>1.0</td>\n",
              "      <td>0.0</td>\n",
              "    </tr>\n",
              "    <tr>\n",
              "      <th>2</th>\n",
              "      <td>1755130499591</td>\n",
              "      <td>100.000000</td>\n",
              "      <td>149.314174</td>\n",
              "      <td>1.0</td>\n",
              "      <td>0.0</td>\n",
              "    </tr>\n",
              "    <tr>\n",
              "      <th>3</th>\n",
              "      <td>1755130559591</td>\n",
              "      <td>99.903564</td>\n",
              "      <td>137.471261</td>\n",
              "      <td>1.0</td>\n",
              "      <td>0.0</td>\n",
              "    </tr>\n",
              "    <tr>\n",
              "      <th>4</th>\n",
              "      <td>1755130619591</td>\n",
              "      <td>99.431104</td>\n",
              "      <td>149.628346</td>\n",
              "      <td>1.0</td>\n",
              "      <td>0.0</td>\n",
              "    </tr>\n",
              "  </tbody>\n",
              "</table>\n",
              "</div>\n",
              "    <div class=\"colab-df-buttons\">\n",
              "\n",
              "  <div class=\"colab-df-container\">\n",
              "    <button class=\"colab-df-convert\" onclick=\"convertToInteractive('df-5450c47b-614d-4a4d-ac96-59d500956ac4')\"\n",
              "            title=\"Convert this dataframe to an interactive table.\"\n",
              "            style=\"display:none;\">\n",
              "\n",
              "  <svg xmlns=\"http://www.w3.org/2000/svg\" height=\"24px\" viewBox=\"0 -960 960 960\">\n",
              "    <path d=\"M120-120v-720h720v720H120Zm60-500h600v-160H180v160Zm220 220h160v-160H400v160Zm0 220h160v-160H400v160ZM180-400h160v-160H180v160Zm440 0h160v-160H620v160ZM180-180h160v-160H180v160Zm440 0h160v-160H620v160Z\"/>\n",
              "  </svg>\n",
              "    </button>\n",
              "\n",
              "  <style>\n",
              "    .colab-df-container {\n",
              "      display:flex;\n",
              "      gap: 12px;\n",
              "    }\n",
              "\n",
              "    .colab-df-convert {\n",
              "      background-color: #E8F0FE;\n",
              "      border: none;\n",
              "      border-radius: 50%;\n",
              "      cursor: pointer;\n",
              "      display: none;\n",
              "      fill: #1967D2;\n",
              "      height: 32px;\n",
              "      padding: 0 0 0 0;\n",
              "      width: 32px;\n",
              "    }\n",
              "\n",
              "    .colab-df-convert:hover {\n",
              "      background-color: #E2EBFA;\n",
              "      box-shadow: 0px 1px 2px rgba(60, 64, 67, 0.3), 0px 1px 3px 1px rgba(60, 64, 67, 0.15);\n",
              "      fill: #174EA6;\n",
              "    }\n",
              "\n",
              "    .colab-df-buttons div {\n",
              "      margin-bottom: 4px;\n",
              "    }\n",
              "\n",
              "    [theme=dark] .colab-df-convert {\n",
              "      background-color: #3B4455;\n",
              "      fill: #D2E3FC;\n",
              "    }\n",
              "\n",
              "    [theme=dark] .colab-df-convert:hover {\n",
              "      background-color: #434B5C;\n",
              "      box-shadow: 0px 1px 3px 1px rgba(0, 0, 0, 0.15);\n",
              "      filter: drop-shadow(0px 1px 2px rgba(0, 0, 0, 0.3));\n",
              "      fill: #FFFFFF;\n",
              "    }\n",
              "  </style>\n",
              "\n",
              "    <script>\n",
              "      const buttonEl =\n",
              "        document.querySelector('#df-5450c47b-614d-4a4d-ac96-59d500956ac4 button.colab-df-convert');\n",
              "      buttonEl.style.display =\n",
              "        google.colab.kernel.accessAllowed ? 'block' : 'none';\n",
              "\n",
              "      async function convertToInteractive(key) {\n",
              "        const element = document.querySelector('#df-5450c47b-614d-4a4d-ac96-59d500956ac4');\n",
              "        const dataTable =\n",
              "          await google.colab.kernel.invokeFunction('convertToInteractive',\n",
              "                                                    [key], {});\n",
              "        if (!dataTable) return;\n",
              "\n",
              "        const docLinkHtml = 'Like what you see? Visit the ' +\n",
              "          '<a target=\"_blank\" href=https://colab.research.google.com/notebooks/data_table.ipynb>data table notebook</a>'\n",
              "          + ' to learn more about interactive tables.';\n",
              "        element.innerHTML = '';\n",
              "        dataTable['output_type'] = 'display_data';\n",
              "        await google.colab.output.renderOutput(dataTable, element);\n",
              "        const docLink = document.createElement('div');\n",
              "        docLink.innerHTML = docLinkHtml;\n",
              "        element.appendChild(docLink);\n",
              "      }\n",
              "    </script>\n",
              "  </div>\n",
              "\n",
              "\n",
              "    <div id=\"df-ce4f6dfe-d9dc-4965-995a-7521dc8e67f7\">\n",
              "      <button class=\"colab-df-quickchart\" onclick=\"quickchart('df-ce4f6dfe-d9dc-4965-995a-7521dc8e67f7')\"\n",
              "                title=\"Suggest charts\"\n",
              "                style=\"display:none;\">\n",
              "\n",
              "<svg xmlns=\"http://www.w3.org/2000/svg\" height=\"24px\"viewBox=\"0 0 24 24\"\n",
              "     width=\"24px\">\n",
              "    <g>\n",
              "        <path d=\"M19 3H5c-1.1 0-2 .9-2 2v14c0 1.1.9 2 2 2h14c1.1 0 2-.9 2-2V5c0-1.1-.9-2-2-2zM9 17H7v-7h2v7zm4 0h-2V7h2v10zm4 0h-2v-4h2v4z\"/>\n",
              "    </g>\n",
              "</svg>\n",
              "      </button>\n",
              "\n",
              "<style>\n",
              "  .colab-df-quickchart {\n",
              "      --bg-color: #E8F0FE;\n",
              "      --fill-color: #1967D2;\n",
              "      --hover-bg-color: #E2EBFA;\n",
              "      --hover-fill-color: #174EA6;\n",
              "      --disabled-fill-color: #AAA;\n",
              "      --disabled-bg-color: #DDD;\n",
              "  }\n",
              "\n",
              "  [theme=dark] .colab-df-quickchart {\n",
              "      --bg-color: #3B4455;\n",
              "      --fill-color: #D2E3FC;\n",
              "      --hover-bg-color: #434B5C;\n",
              "      --hover-fill-color: #FFFFFF;\n",
              "      --disabled-bg-color: #3B4455;\n",
              "      --disabled-fill-color: #666;\n",
              "  }\n",
              "\n",
              "  .colab-df-quickchart {\n",
              "    background-color: var(--bg-color);\n",
              "    border: none;\n",
              "    border-radius: 50%;\n",
              "    cursor: pointer;\n",
              "    display: none;\n",
              "    fill: var(--fill-color);\n",
              "    height: 32px;\n",
              "    padding: 0;\n",
              "    width: 32px;\n",
              "  }\n",
              "\n",
              "  .colab-df-quickchart:hover {\n",
              "    background-color: var(--hover-bg-color);\n",
              "    box-shadow: 0 1px 2px rgba(60, 64, 67, 0.3), 0 1px 3px 1px rgba(60, 64, 67, 0.15);\n",
              "    fill: var(--button-hover-fill-color);\n",
              "  }\n",
              "\n",
              "  .colab-df-quickchart-complete:disabled,\n",
              "  .colab-df-quickchart-complete:disabled:hover {\n",
              "    background-color: var(--disabled-bg-color);\n",
              "    fill: var(--disabled-fill-color);\n",
              "    box-shadow: none;\n",
              "  }\n",
              "\n",
              "  .colab-df-spinner {\n",
              "    border: 2px solid var(--fill-color);\n",
              "    border-color: transparent;\n",
              "    border-bottom-color: var(--fill-color);\n",
              "    animation:\n",
              "      spin 1s steps(1) infinite;\n",
              "  }\n",
              "\n",
              "  @keyframes spin {\n",
              "    0% {\n",
              "      border-color: transparent;\n",
              "      border-bottom-color: var(--fill-color);\n",
              "      border-left-color: var(--fill-color);\n",
              "    }\n",
              "    20% {\n",
              "      border-color: transparent;\n",
              "      border-left-color: var(--fill-color);\n",
              "      border-top-color: var(--fill-color);\n",
              "    }\n",
              "    30% {\n",
              "      border-color: transparent;\n",
              "      border-left-color: var(--fill-color);\n",
              "      border-top-color: var(--fill-color);\n",
              "      border-right-color: var(--fill-color);\n",
              "    }\n",
              "    40% {\n",
              "      border-color: transparent;\n",
              "      border-right-color: var(--fill-color);\n",
              "      border-top-color: var(--fill-color);\n",
              "    }\n",
              "    60% {\n",
              "      border-color: transparent;\n",
              "      border-right-color: var(--fill-color);\n",
              "    }\n",
              "    80% {\n",
              "      border-color: transparent;\n",
              "      border-right-color: var(--fill-color);\n",
              "      border-bottom-color: var(--fill-color);\n",
              "    }\n",
              "    90% {\n",
              "      border-color: transparent;\n",
              "      border-bottom-color: var(--fill-color);\n",
              "    }\n",
              "  }\n",
              "</style>\n",
              "\n",
              "      <script>\n",
              "        async function quickchart(key) {\n",
              "          const quickchartButtonEl =\n",
              "            document.querySelector('#' + key + ' button');\n",
              "          quickchartButtonEl.disabled = true;  // To prevent multiple clicks.\n",
              "          quickchartButtonEl.classList.add('colab-df-spinner');\n",
              "          try {\n",
              "            const charts = await google.colab.kernel.invokeFunction(\n",
              "                'suggestCharts', [key], {});\n",
              "          } catch (error) {\n",
              "            console.error('Error during call to suggestCharts:', error);\n",
              "          }\n",
              "          quickchartButtonEl.classList.remove('colab-df-spinner');\n",
              "          quickchartButtonEl.classList.add('colab-df-quickchart-complete');\n",
              "        }\n",
              "        (() => {\n",
              "          let quickchartButtonEl =\n",
              "            document.querySelector('#df-ce4f6dfe-d9dc-4965-995a-7521dc8e67f7 button');\n",
              "          quickchartButtonEl.style.display =\n",
              "            google.colab.kernel.accessAllowed ? 'block' : 'none';\n",
              "        })();\n",
              "      </script>\n",
              "    </div>\n",
              "\n",
              "    </div>\n",
              "  </div>\n"
            ],
            "application/vnd.google.colaboratory.intrinsic+json": {
              "type": "dataframe",
              "variable_name": "df",
              "summary": "{\n  \"name\": \"df\",\n  \"rows\": 20000,\n  \"fields\": [\n    {\n      \"column\": \"timestamp\",\n      \"properties\": {\n        \"dtype\": \"number\",\n        \"std\": 346418821,\n        \"min\": 1755130379591,\n        \"max\": 1756330319591,\n        \"num_unique_values\": 20000,\n        \"samples\": [\n          1755769379591,\n          1755252839591,\n          1755650459591\n        ],\n        \"semantic_type\": \"\",\n        \"description\": \"\"\n      }\n    },\n    {\n      \"column\": \"battery\",\n      \"properties\": {\n        \"dtype\": \"number\",\n        \"std\": 24.556950124448086,\n        \"min\": 13.55688202508004,\n        \"max\": 100.0,\n        \"num_unique_values\": 19944,\n        \"samples\": [\n          35.47814986898832,\n          41.54078674165623,\n          84.70407781536701\n        ],\n        \"semantic_type\": \"\",\n        \"description\": \"\"\n      }\n    },\n    {\n      \"column\": \"brightness\",\n      \"properties\": {\n        \"dtype\": \"number\",\n        \"std\": 86.26538033710516,\n        \"min\": 20.0,\n        \"max\": 255.0,\n        \"num_unique_values\": 14811,\n        \"samples\": [\n          226.18869702895537,\n          64.70946129998657,\n          60.88972189418065\n        ],\n        \"semantic_type\": \"\",\n        \"description\": \"\"\n      }\n    },\n    {\n      \"column\": \"network\",\n      \"properties\": {\n        \"dtype\": \"number\",\n        \"std\": 0.42779180425919994,\n        \"min\": 1.0,\n        \"max\": 2.0,\n        \"num_unique_values\": 2,\n        \"samples\": [\n          2.0,\n          1.0\n        ],\n        \"semantic_type\": \"\",\n        \"description\": \"\"\n      }\n    },\n    {\n      \"column\": \"charging_status\",\n      \"properties\": {\n        \"dtype\": \"number\",\n        \"std\": 0.433023527615733,\n        \"min\": 0.0,\n        \"max\": 1.0,\n        \"num_unique_values\": 2,\n        \"samples\": [\n          1.0,\n          0.0\n        ],\n        \"semantic_type\": \"\",\n        \"description\": \"\"\n      }\n    }\n  ]\n}"
            }
          },
          "metadata": {},
          "execution_count": 2
        }
      ]
    },
    {
      "cell_type": "markdown",
      "source": [
        "# Loading and Normalizing the data we have prepared"
      ],
      "metadata": {
        "id": "7W7Pk-Y1d9ZZ"
      }
    },
    {
      "cell_type": "code",
      "source": [
        "# Load the data from the CSV file\n",
        "df = pd.read_csv('large_battery_data.csv', header=None, names=['timestamp', 'battery', 'brightness', 'network' , 'charging_status'])\n",
        "\n",
        "# Normalize the features to be between 0 and 1\n",
        "scaler = MinMaxScaler()\n",
        "df_scaled = scaler.fit_transform(df[['battery', 'brightness', 'network', 'charging_status']])\n",
        "\n",
        "print(\"✅ Data loaded and normalized successfully!\")"
      ],
      "metadata": {
        "colab": {
          "base_uri": "https://localhost:8080/"
        },
        "id": "E7RPJ1X_dq_1",
        "outputId": "7b4ad1f3-1341-46c4-a8e5-f822b2f3b65c"
      },
      "execution_count": null,
      "outputs": [
        {
          "output_type": "stream",
          "name": "stdout",
          "text": [
            "✅ Data loaded and normalized successfully!\n"
          ]
        }
      ]
    },
    {
      "cell_type": "markdown",
      "source": [
        "# Now preparing the Data for the training of AI mdoel"
      ],
      "metadata": {
        "id": "tE4n-m9NeVZ3"
      }
    },
    {
      "cell_type": "code",
      "source": [
        "# This function converts our data into sequences (e.g., use data from steps 1-10 to predict step 11)\n",
        "def create_dataset(dataset, look_back=10):\n",
        "    dataX, dataY = [], []\n",
        "    for i in range(len(dataset) - look_back - 1):\n",
        "        a = dataset[i:(i + look_back), :]\n",
        "        dataX.append(a)\n",
        "        dataY.append(dataset[i + look_back, 0])\n",
        "    return np.array(dataX), np.array(dataY)\n",
        "\n",
        "look_back = 10\n",
        "X, y = create_dataset(df_scaled)\n",
        "\n",
        "print(f\"✅ Data prepared for AI training. Input shape: {X.shape}, Output shape: {y.shape}\")"
      ],
      "metadata": {
        "colab": {
          "base_uri": "https://localhost:8080/"
        },
        "id": "AmxDw-5sedZQ",
        "outputId": "8c4c2cca-19db-461a-af89-585606fd5da2"
      },
      "execution_count": null,
      "outputs": [
        {
          "output_type": "stream",
          "name": "stdout",
          "text": [
            "✅ Data prepared for AI training. Input shape: (19989, 10, 4), Output shape: (19989,)\n"
          ]
        }
      ]
    },
    {
      "cell_type": "markdown",
      "source": [
        "## Training and Building the AI model"
      ],
      "metadata": {
        "id": "srBXqz_KejUe"
      }
    },
    {
      "cell_type": "code",
      "source": [
        "# Cell 5 (NEW): Build and Train a Simpler, More Robust Model\n",
        "\n",
        "num_features = X.shape[2]\n",
        "look_back = 10\n",
        "\n",
        "model = tf.keras.Sequential([\n",
        "    # This layer flattens the input from a (10, 4) shape into a single line of 40 numbers\n",
        "    tf.keras.layers.Flatten(input_shape=(look_back, num_features)),\n",
        "\n",
        "    # These are standard \"Dense\" layers that are very robust\n",
        "    tf.keras.layers.Dense(32, activation='relu'),\n",
        "    tf.keras.layers.Dense(16, activation='relu'),\n",
        "\n",
        "    # The final output layer is still a single neuron\n",
        "    tf.keras.layers.Dense(1)\n",
        "])\n",
        "\n",
        "model.compile(optimizer='adam', loss='mean_squared_error')\n",
        "\n",
        "print(\"⏳ Training the new, more robust model...\")\n",
        "model.fit(X, y, epochs=10, batch_size=1, verbose=2)\n",
        "print(\"✅ Training complete!\")"
      ],
      "metadata": {
        "colab": {
          "base_uri": "https://localhost:8080/"
        },
        "id": "C2wKWjsHeqP_",
        "outputId": "a0759819-52dd-40c7-e66d-d9bc090f51ff"
      },
      "execution_count": null,
      "outputs": [
        {
          "output_type": "stream",
          "name": "stdout",
          "text": [
            "⏳ Training the new, more robust model...\n",
            "Epoch 1/10\n"
          ]
        },
        {
          "output_type": "stream",
          "name": "stderr",
          "text": [
            "/usr/local/lib/python3.12/dist-packages/keras/src/layers/reshaping/flatten.py:37: UserWarning: Do not pass an `input_shape`/`input_dim` argument to a layer. When using Sequential models, prefer using an `Input(shape)` object as the first layer in the model instead.\n",
            "  super().__init__(**kwargs)\n"
          ]
        },
        {
          "output_type": "stream",
          "name": "stdout",
          "text": [
            "19989/19989 - 35s - 2ms/step - loss: 4.8570e-04\n",
            "Epoch 2/10\n",
            "19989/19989 - 34s - 2ms/step - loss: 1.0658e-04\n",
            "Epoch 3/10\n",
            "19989/19989 - 38s - 2ms/step - loss: 8.6606e-05\n",
            "Epoch 4/10\n",
            "19989/19989 - 31s - 2ms/step - loss: 7.9944e-05\n",
            "Epoch 5/10\n",
            "19989/19989 - 31s - 2ms/step - loss: 7.8816e-05\n",
            "Epoch 6/10\n",
            "19989/19989 - 39s - 2ms/step - loss: 7.4759e-05\n",
            "Epoch 7/10\n",
            "19989/19989 - 44s - 2ms/step - loss: 7.4564e-05\n",
            "Epoch 8/10\n",
            "19989/19989 - 29s - 1ms/step - loss: 7.3970e-05\n",
            "Epoch 9/10\n",
            "19989/19989 - 28s - 1ms/step - loss: 7.3040e-05\n",
            "Epoch 10/10\n",
            "19989/19989 - 30s - 1ms/step - loss: 7.2146e-05\n",
            "✅ Training complete!\n"
          ]
        }
      ]
    },
    {
      "cell_type": "markdown",
      "source": [
        "Converting and Downloading the mobile friendly model\n"
      ],
      "metadata": {
        "id": "PhGOilKSlu4Q"
      }
    },
    {
      "cell_type": "code",
      "source": [
        "converter = tf.lite.TFLiteConverter.from_keras_model(model)\n",
        "converter.target_spec.supported_ops = [\n",
        "  tf.lite.OpsSet.TFLITE_BUILTINS,\n",
        "  tf.lite.OpsSet.SELECT_TF_OPS\n",
        "]\n",
        "converter._experimental_lower_tensor_list_ops = False\n",
        "\n",
        "tflite_model = converter.convert()\n",
        "\n",
        "with open('advanced_battery_model.tflite', 'wb') as f:\n",
        "  f.write(tflite_model)\n",
        "\n",
        "print(\"\\n⬇️ Downloading your 'advanced_battery_model.tflite' file...\")\n",
        "files.download('advanced_battery_model.tflite')"
      ],
      "metadata": {
        "id": "ych64jpZl1tU",
        "outputId": "5a87a7ad-f2f9-4481-c846-5e8c209505d6",
        "colab": {
          "base_uri": "https://localhost:8080/",
          "height": 277
        }
      },
      "execution_count": null,
      "outputs": [
        {
          "output_type": "stream",
          "name": "stdout",
          "text": [
            "Saved artifact at '/tmp/tmpn4vmkjzl'. The following endpoints are available:\n",
            "\n",
            "* Endpoint 'serve'\n",
            "  args_0 (POSITIONAL_ONLY): TensorSpec(shape=(None, 10, 4), dtype=tf.float32, name='keras_tensor')\n",
            "Output Type:\n",
            "  TensorSpec(shape=(None, 1), dtype=tf.float32, name=None)\n",
            "Captures:\n",
            "  139471186994064: TensorSpec(shape=(), dtype=tf.resource, name=None)\n",
            "  139471186995024: TensorSpec(shape=(), dtype=tf.resource, name=None)\n",
            "  139471186994448: TensorSpec(shape=(), dtype=tf.resource, name=None)\n",
            "  139471186994832: TensorSpec(shape=(), dtype=tf.resource, name=None)\n",
            "  139471186995216: TensorSpec(shape=(), dtype=tf.resource, name=None)\n",
            "  139471186993104: TensorSpec(shape=(), dtype=tf.resource, name=None)\n",
            "\n",
            "⬇️ Downloading your 'advanced_battery_model.tflite' file...\n"
          ]
        },
        {
          "output_type": "display_data",
          "data": {
            "text/plain": [
              "<IPython.core.display.Javascript object>"
            ],
            "application/javascript": [
              "\n",
              "    async function download(id, filename, size) {\n",
              "      if (!google.colab.kernel.accessAllowed) {\n",
              "        return;\n",
              "      }\n",
              "      const div = document.createElement('div');\n",
              "      const label = document.createElement('label');\n",
              "      label.textContent = `Downloading \"${filename}\": `;\n",
              "      div.appendChild(label);\n",
              "      const progress = document.createElement('progress');\n",
              "      progress.max = size;\n",
              "      div.appendChild(progress);\n",
              "      document.body.appendChild(div);\n",
              "\n",
              "      const buffers = [];\n",
              "      let downloaded = 0;\n",
              "\n",
              "      const channel = await google.colab.kernel.comms.open(id);\n",
              "      // Send a message to notify the kernel that we're ready.\n",
              "      channel.send({})\n",
              "\n",
              "      for await (const message of channel.messages) {\n",
              "        // Send a message to notify the kernel that we're ready.\n",
              "        channel.send({})\n",
              "        if (message.buffers) {\n",
              "          for (const buffer of message.buffers) {\n",
              "            buffers.push(buffer);\n",
              "            downloaded += buffer.byteLength;\n",
              "            progress.value = downloaded;\n",
              "          }\n",
              "        }\n",
              "      }\n",
              "      const blob = new Blob(buffers, {type: 'application/binary'});\n",
              "      const a = document.createElement('a');\n",
              "      a.href = window.URL.createObjectURL(blob);\n",
              "      a.download = filename;\n",
              "      div.appendChild(a);\n",
              "      a.click();\n",
              "      div.remove();\n",
              "    }\n",
              "  "
            ]
          },
          "metadata": {}
        },
        {
          "output_type": "display_data",
          "data": {
            "text/plain": [
              "<IPython.core.display.Javascript object>"
            ],
            "application/javascript": [
              "download(\"download_2c7998e0-7084-4797-8b8e-3fdfa3a6541b\", \"advanced_battery_model.tflite\", 9548)"
            ]
          },
          "metadata": {}
        }
      ]
    }
  ]
}